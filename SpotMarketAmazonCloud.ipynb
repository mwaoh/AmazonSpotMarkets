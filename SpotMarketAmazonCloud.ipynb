{
  "metadata": {
    "language_info": {
      "codemirror_mode": {
        "name": "python",
        "version": 3
      },
      "file_extension": ".py",
      "mimetype": "text/x-python",
      "name": "python",
      "nbconvert_exporter": "python",
      "pygments_lexer": "ipython3",
      "version": "3.8"
    },
    "kernelspec": {
      "name": "python",
      "display_name": "Python (Pyodide)",
      "language": "python"
    }
  },
  "nbformat_minor": 4,
  "nbformat": 4,
  "cells": [
    {
      "cell_type": "code",
      "source": "instance_types  = ['c3.xlarge', 'c3.2xlarge', 'c3.4xlarge', 'c3.8xlarge']\nregion = 'us-east-1'\nnumber_of_days = 10\n\nend = !date -u \"+%Y-%m-%dT%H:%M:%S\"\nend = end[0]\nstart = !date -v \"-{number_of_days}d\" -u \"+%Y-%m-%dT%H:%M:%S\"\nstart = start[0]\nprint (\"will process from \" + start + \" to \" + end)",
      "metadata": {},
      "execution_count": null,
      "outputs": []
    },
    {
      "cell_type": "code",
      "source": "import sys\nimport boto as boto\nimport boto.ec2 as ec2\nimport datetime, time\nimport pandas as pd\nimport matplotlib.pyplot as plt\npd.set_option('display.mpl_style', 'default') # Make the graphs a bit prettier\n%pylab inline\n%matplotlib inline\n\nec2 = boto.ec2.connect_to_region(region)\n\n",
      "metadata": {},
      "execution_count": null,
      "outputs": []
    },
    {
      "cell_type": "code",
      "source": "df = pd.read_json('../data/m1.xlarge.json')\ndf = df.set_index('Timestamp')\ndf[:5]\n",
      "metadata": {},
      "execution_count": null,
      "outputs": []
    },
    {
      "cell_type": "code",
      "source": "df.groupby('AvailabilityZone').var()\n\n",
      "metadata": {},
      "execution_count": null,
      "outputs": []
    },
    {
      "cell_type": "code",
      "source": "for key, grp in df.groupby(['AvailabilityZone'], as_index=False):\n    plt.plot(grp['SpotPrice'], label=key)\n\nplt.legend()\nplt.title('Spot Pricing')\nplt.show()\n",
      "metadata": {},
      "execution_count": null,
      "outputs": []
    },
    {
      "cell_type": "code",
      "source": "#\n# process the output and convert to a dataframe\n#\n\nl = []\nfor instance in instance_types:\n    sys.stdout.write(\"*** processing \" + instance + \" ***\\n\")\n    sys.stdout.flush()\n    prices = ec2.get_spot_price_history(start_time=start, end_time=end, instance_type=instance)\n    for price in prices:\n        d = {'InstanceType': price.instance_type, \n             'AvailabilityZone': price.availability_zone, \n             'SpotPrice': price.price, \n             'Timestamp': price.timestamp}\n        l.append(d)\n    next = prices.next_token\n    while (next != ''):\n        sys.stdout.write(\".\")\n        sys.stdout.flush()\n        prices = ec2.get_spot_price_history(start_time=start, end_time=end, instance_type=instance,\n                                            next_token=next )\n        for price in prices:\n            d = {'InstanceType': price.instance_type, \n                 'AvailabilityZone': price.availability_zone, \n                 'SpotPrice': price.price, \n                 'Timestamp': price.timestamp}\n            l.append(d)\n        next = prices.next_token\n        \n    sys.stdout.write(\"\\n\")\n\ndf = pd.DataFrame(l)\ndf = df.set_index(pd.to_datetime(df['Timestamp']))\n",
      "metadata": {},
      "execution_count": null,
      "outputs": []
    },
    {
      "cell_type": "code",
      "source": "plt.figure(1, figsize(20,5))\nfor azName, azData in df[df.InstanceType=='c3.8xlarge'].groupby(['AvailabilityZone'], as_index=False):\n    plt.plot(azData.index, azData['SpotPrice'],label=azName)\nplt.legend()\nplt.title('Spot Pricing - c3.8xlarge')\nplt.show()\n",
      "metadata": {},
      "execution_count": null,
      "outputs": []
    },
    {
      "cell_type": "code",
      "source": "plt.figure(1, figsize(20,5))\nfor inName, inData in df[df.AvailabilityZone=='us-east-1a'].groupby(['InstanceType'], as_index=False):\n    plt.hist(inData['SpotPrice'], bins=1000,label=inName)\n    plt.xlim([0,1])\nplt.legend()\nplt.title('Histogram of Spot Pricing - us-east-1a')\nplt.show()\n\n",
      "metadata": {},
      "execution_count": null,
      "outputs": []
    },
    {
      "cell_type": "code",
      "source": "eight = df[df.InstanceType=='c3.xlarge']\neight.groupby(eight.index.hour).agg([mean, std]).plot(title='average price by hour of day (UTC) for c3.xlarge')\n",
      "metadata": {},
      "execution_count": null,
      "outputs": []
    },
    {
      "cell_type": "code",
      "source": "eight = df[df.InstanceType=='c3.xlarge']\neight.groupby(eight.index.dayofweek).agg([mean, std]).plot(title='average price by day of week (UTC) for c3.xlarge')\n",
      "metadata": {},
      "execution_count": null,
      "outputs": []
    }
  ]
}